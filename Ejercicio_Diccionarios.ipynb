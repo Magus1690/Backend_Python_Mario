{
  "nbformat": 4,
  "nbformat_minor": 0,
  "metadata": {
    "colab": {
      "provenance": [],
      "authorship_tag": "ABX9TyO9cXvlFpzkM2z6JQ8/hArs",
      "include_colab_link": true
    },
    "kernelspec": {
      "name": "python3",
      "display_name": "Python 3"
    },
    "language_info": {
      "name": "python"
    }
  },
  "cells": [
    {
      "cell_type": "markdown",
      "metadata": {
        "id": "view-in-github",
        "colab_type": "text"
      },
      "source": [
        "<a href=\"https://colab.research.google.com/github/Magus1690/Backend_Python_Mario/blob/main/Ejercicio_Diccionarios.ipynb\" target=\"_parent\"><img src=\"https://colab.research.google.com/assets/colab-badge.svg\" alt=\"Open In Colab\"/></a>"
      ]
    },
    {
      "cell_type": "markdown",
      "source": [
        "<h1>INSTRUCCIONES </h1>\n",
        "\n",
        "<p>Crea un Jupyter Notebook para el ejercicio y modifica este programa para que incluya la altura y peso del pokemon. Pista: la info ya está en la variable “data” que es un diccionario, solo necesitas encontrar las llaves que corresponden con los valores de altura y peso</p>"
      ],
      "metadata": {
        "id": "E7mJXoYe1Dwt"
      }
    },
    {
      "cell_type": "code",
      "source": [
        "#Instalacion de la libreria pokebase\n",
        "!pip install pokebase"
      ],
      "metadata": {
        "colab": {
          "base_uri": "https://localhost:8080/"
        },
        "id": "rkQeKRSl11pm",
        "outputId": "3d41ba46-5f67-47f7-8afd-1bd952d0a787"
      },
      "execution_count": 1,
      "outputs": [
        {
          "output_type": "stream",
          "name": "stdout",
          "text": [
            "Collecting pokebase\n",
            "  Downloading pokebase-1.4.1-py3-none-any.whl (11 kB)\n",
            "Requirement already satisfied: requests in /usr/local/lib/python3.10/dist-packages (from pokebase) (2.31.0)\n",
            "Requirement already satisfied: charset-normalizer<4,>=2 in /usr/local/lib/python3.10/dist-packages (from requests->pokebase) (3.3.2)\n",
            "Requirement already satisfied: idna<4,>=2.5 in /usr/local/lib/python3.10/dist-packages (from requests->pokebase) (3.6)\n",
            "Requirement already satisfied: urllib3<3,>=1.21.1 in /usr/local/lib/python3.10/dist-packages (from requests->pokebase) (2.0.7)\n",
            "Requirement already satisfied: certifi>=2017.4.17 in /usr/local/lib/python3.10/dist-packages (from requests->pokebase) (2023.11.17)\n",
            "Installing collected packages: pokebase\n",
            "Successfully installed pokebase-1.4.1\n"
          ]
        }
      ]
    },
    {
      "cell_type": "code",
      "execution_count": 32,
      "metadata": {
        "colab": {
          "base_uri": "https://localhost:8080/"
        },
        "id": "2wC7Pk_u09kf",
        "outputId": "b386ef61-2b5d-4701-c92c-6e04aacef2b3"
      },
      "outputs": [
        {
          "output_type": "stream",
          "name": "stdout",
          "text": [
            "Ingresa el nombre de un pokemon\n",
            "\n",
            "rattata\n",
            "ID:  19\n",
            "Nombre:  rattata\n",
            "Altura:  3\n",
            "Peso:  35\n",
            "Descripción:  Suele desordenar cosas\n"
          ]
        }
      ],
      "source": [
        "import pokebase as pb\n",
        "import requests\n",
        "\n",
        "pokemon_to_search = input(\"Ingresa el nombre de un pokemon\\n\\n\")\n",
        "\n",
        "data = pb.pokemon(pokemon_to_search).__dict__\n",
        "\n",
        "id_ = data.get('id_')\n",
        "name = data.get('name')\n",
        "height = data.get(\"height\")\n",
        "weight = data.get(\"weight\")\n",
        "\n",
        "print(\"ID: \", id_)\n",
        "print(\"Nombre: \", name)\n",
        "print(\"Altura: \", height)\n",
        "print(\"Peso: \", weight)\n",
        "\n",
        "url = \"https://pokeapi.co/api/v2/characteristic/{id}/\".format(id=id_)\n",
        "response = requests.get(url)\n",
        "for description_dict in response.json().get(\"descriptions\"):\n",
        "  if description_dict.get(\"language\", {}).get(\"name\") == \"es\":\n",
        "    description = description_dict.get(\"description\")\n",
        "    print(\"Descripción: \",description)"
      ]
    }
  ]
}