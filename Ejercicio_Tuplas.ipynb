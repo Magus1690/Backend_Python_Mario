{
  "nbformat": 4,
  "nbformat_minor": 0,
  "metadata": {
    "colab": {
      "provenance": [],
      "authorship_tag": "ABX9TyMXGRTd9jObUx00xVv8gex8",
      "include_colab_link": true
    },
    "kernelspec": {
      "name": "python3",
      "display_name": "Python 3"
    },
    "language_info": {
      "name": "python"
    }
  },
  "cells": [
    {
      "cell_type": "markdown",
      "metadata": {
        "id": "view-in-github",
        "colab_type": "text"
      },
      "source": [
        "<a href=\"https://colab.research.google.com/github/Magus1690/Backend_Python_Mario/blob/main/Ejercicio_Tuplas.ipynb\" target=\"_parent\"><img src=\"https://colab.research.google.com/assets/colab-badge.svg\" alt=\"Open In Colab\"/></a>"
      ]
    },
    {
      "cell_type": "markdown",
      "source": [
        "<h1>INSTRUCCIONES. </h1>\n",
        "\n",
        "<par align=\"justify\">Crea un Jupyter Notebook para el ejercicio y modifica este programa para crear un prototipo de una lista de reproducción musical, la tarea es que conviertas la lista del resultado en una tupla y que el resultado al imprimirse venga entre paréntesis (porque son tuplas)</par>"
      ],
      "metadata": {
        "id": "VD58_DdU9BL_"
      }
    },
    {
      "cell_type": "code",
      "execution_count": 7,
      "metadata": {
        "colab": {
          "base_uri": "https://localhost:8080/"
        },
        "id": "ZeXoYQ8Z8-Au",
        "outputId": "7307a205-f544-493a-91a2-9656de0a19c8"
      },
      "outputs": [
        {
          "output_type": "stream",
          "name": "stdout",
          "text": [
            "Lista de Reproducción\n",
            "\n",
            "Ingresa la palabra que te gustaría\n",
            "Ejemplo: 'rock', y obtendrás un playlist de canciones o artistas que incluyan la palabra rock\n",
            "age\n",
            "('Age', 'Jim Croce')\n",
            "('Nome de Anjo', 'Mateus Fazeno Rock')\n",
            "('Age', 'Jim Croce')\n",
            "('The Age', 'Bury Tomorrow')\n",
            "('Melô de Aparecida', 'Mateus Fazeno Rock')\n",
            "('Little Dark Age', 'MGMT')\n",
            "('SKIN', 'Benefit one MONOLIZ')\n",
            "(\"What's My Age Again?\", 'blink-182')\n",
            "('Ace', 'Noname')\n",
            "('The Age', 'Anika Nilles')\n",
            "('Pose de Malandro/ Me Querem Morto', 'Mateus Fazeno Rock')\n",
            "('A Fé', 'Sergio Lopes')\n",
            "('Age Of Dome', 'Celina Class')\n",
            "('Jesus Ñ Voltará', 'Mateus Fazeno Rock')\n",
            "('A&E', 'Goldfrapp')\n",
            "('A Different Age', 'Current Joys')\n",
            "('Golden Age', 'Mondo Loops')\n",
            "('Afe', 'Mokado')\n",
            "('MOYEN AGE', 'kvme')\n",
            "('The Golden Age', 'Woodkid')\n",
            "('Ace', 'TAEMIN')\n",
            "('Hold On (I Was Wrong)', 'Video Age')\n",
            "('Pode Ser Easy', 'Mateus Fazeno Rock')\n",
            "('A Fé', 'Guerreiro da Canção')\n",
            "(\"Age d'or\", 'Columbine')\n"
          ]
        }
      ],
      "source": [
        "import requests\n",
        "\n",
        "print(\"Lista de Reproducción\\n\")\n",
        "\n",
        "# Referencia: https://www.deezer.com/en/channels/explore\n",
        "\n",
        "print(\"Ingresa la palabra que te gustaría\")\n",
        "print(\"Ejemplo: 'rock', y obtendrás un playlist de canciones o artistas que incluyan la palabra rock\")\n",
        "\n",
        "word_to_search = input()\n",
        "\n",
        "url = \"https://deezerdevs-deezer.p.rapidapi.com/search\"\n",
        "querystring = {\"q\":word_to_search}\n",
        "headers = {\n",
        "    \"X-RapidAPI-Key\": \"3ed98f551fmshe4e6260228c4eadp13db17jsn8c893e1194da\",\n",
        "    \"X-RapidAPI-Host\": \"deezerdevs-deezer.p.rapidapi.com\"\n",
        "}\n",
        "response = requests.request(\"GET\", url, headers=headers, params=querystring).json()\n",
        "for element in response['data']:\n",
        "  my_list = element['title'], element['artist']['name']\n",
        "  print(my_list)"
      ]
    }
  ]
}