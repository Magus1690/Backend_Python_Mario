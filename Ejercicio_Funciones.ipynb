{
  "nbformat": 4,
  "nbformat_minor": 0,
  "metadata": {
    "colab": {
      "provenance": [],
      "authorship_tag": "ABX9TyOSqG7AHIUu0IHWZhjQ/oj3",
      "include_colab_link": true
    },
    "kernelspec": {
      "name": "python3",
      "display_name": "Python 3"
    },
    "language_info": {
      "name": "python"
    }
  },
  "cells": [
    {
      "cell_type": "markdown",
      "metadata": {
        "id": "view-in-github",
        "colab_type": "text"
      },
      "source": [
        "<a href=\"https://colab.research.google.com/github/Magus1690/Backend_Python_Mario/blob/main/Ejercicio_Funciones.ipynb\" target=\"_parent\"><img src=\"https://colab.research.google.com/assets/colab-badge.svg\" alt=\"Open In Colab\"/></a>"
      ]
    },
    {
      "cell_type": "markdown",
      "source": [
        "<h1>INSTRUCCIONES.</h1>\n",
        "\n",
        "<p align=\"justify\">Visualiza qué funciones podrían ser útiles en un eCommerce, tal vez esta lista pueda darte algunas ideas: </p>\n",
        "\n",
        "<ol>\n",
        "<li> list_items_available </li>\n",
        "<li> add_to_cart </li>\n",
        "<li> list_my_orders </li>  \n",
        "<li> get_my_account_info </li>   \n",
        "</ol>\n",
        "\n",
        "<p align=\"justify\"> Estas son solo algunas ideas, tú puedes declarar cualquier función que consideres que podría ser útil en una plataforma de ecommerce El ejercicio consiste en que crees una función que tenga una función anidada o una función lambda. El criterio de aceptación es que la función debe emular algún comportamiento útil y debes proveer algunos ejemplos con parámetros donde la función se ejecute sin errores.</p>"
      ],
      "metadata": {
        "id": "SHlpUt9aIEBm"
      }
    },
    {
      "cell_type": "code",
      "execution_count": 29,
      "metadata": {
        "id": "-qzRRvPlHxFG"
      },
      "outputs": [],
      "source": [
        "def add_to_cart(product, qt):\n",
        "  global cart\n",
        "  result = check_stock(product) #Funcion1 anidada\n",
        "  if result == 0:\n",
        "    if product in cart.keys():\n",
        "      cart[product] += qt\n",
        "    else:\n",
        "      cart[product] = qt\n",
        "    print(f\"{qt} Producto {product} agregado\\n\")\n",
        "    update_stock(product,qt) #Funcion2 anidada\n",
        "  else: print(f\"No hay {product} en stock\\n\")\n",
        "\n",
        "def check_stock(product):\n",
        "  global stock\n",
        "  if product in stock.keys(): return 0\n",
        "  else: return 1\n",
        "\n",
        "def update_stock(product,qt):\n",
        "  global stock\n",
        "  stock[product] -= qt"
      ]
    },
    {
      "cell_type": "code",
      "source": [
        "stock = {\"carne\":30,\n",
        "         \"lechuga\":100,\n",
        "         \"zanahoria\":30,\n",
        "         \"naranja\":40,\n",
        "         \"pepino\":25,\n",
        "         \"pollo\":34,\n",
        "         \"pescado\":58,\n",
        "         \"tomates\":26}\n",
        "cart = {}\n",
        "\n",
        "print(f\"Iniciamos: {stock}\")\n",
        "add_to_cart(\"tomates\",20)\n",
        "add_to_cart(\"zanahoria\",15)\n",
        "add_to_cart(\"carne\",2)\n",
        "add_to_cart(\"juguetes\",100)\n",
        "add_to_cart(\"lechuga\",70)\n",
        "add_to_cart(\"Popote\",10)\n",
        "print(f\"Terminamos: {stock}\")"
      ],
      "metadata": {
        "colab": {
          "base_uri": "https://localhost:8080/"
        },
        "id": "2wPcjQMFMLPL",
        "outputId": "982af54c-9505-4f0e-ef6f-67fbe1aea71d"
      },
      "execution_count": 30,
      "outputs": [
        {
          "output_type": "stream",
          "name": "stdout",
          "text": [
            "Iniciamos: {'carne': 30, 'lechuga': 100, 'zanahoria': 30, 'naranja': 40, 'pepino': 25, 'pollo': 34, 'pescado': 58, 'tomates': 26}\n",
            "20 Producto tomates agregado\n",
            "\n",
            "15 Producto zanahoria agregado\n",
            "\n",
            "2 Producto carne agregado\n",
            "\n",
            "No hay juguetes en stock\n",
            "\n",
            "70 Producto lechuga agregado\n",
            "\n",
            "No hay Popote en stock\n",
            "\n",
            "Terminamos: {'carne': 28, 'lechuga': 30, 'zanahoria': 15, 'naranja': 40, 'pepino': 25, 'pollo': 34, 'pescado': 58, 'tomates': 6}\n"
          ]
        }
      ]
    }
  ]
}