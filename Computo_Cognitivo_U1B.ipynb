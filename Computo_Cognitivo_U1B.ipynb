{
  "nbformat": 4,
  "nbformat_minor": 0,
  "metadata": {
    "colab": {
      "provenance": [],
      "mount_file_id": "10I9OYl7GIn7stKRRk2EFKbVC0GkIoe9L",
      "authorship_tag": "ABX9TyN4UT8rY6+S0ayD8Nt6IZ2C",
      "include_colab_link": true
    },
    "kernelspec": {
      "name": "python3",
      "display_name": "Python 3"
    },
    "language_info": {
      "name": "python"
    }
  },
  "cells": [
    {
      "cell_type": "markdown",
      "metadata": {
        "id": "view-in-github",
        "colab_type": "text"
      },
      "source": [
        "<a href=\"https://colab.research.google.com/github/Magus1690/Backend_Python_Mario/blob/main/Computo_Cognitivo_U1B.ipynb\" target=\"_parent\"><img src=\"https://colab.research.google.com/assets/colab-badge.svg\" alt=\"Open In Colab\"/></a>"
      ]
    },
    {
      "cell_type": "code",
      "execution_count": 1,
      "metadata": {
        "id": "G2p0rN-FOC6j"
      },
      "outputs": [],
      "source": [
        "#Importacion de librerias\n",
        "import pandas as pd\n",
        "import numpy as np\n",
        "from sklearn.linear_model import LogisticRegression\n",
        "from sklearn.metrics import accuracy_score, classification_report, confusion_matrix\n",
        "from sklearn.model_selection import train_test_split"
      ]
    },
    {
      "cell_type": "code",
      "source": [
        "#Cargar el documento que describe las variables del dataset\n",
        "data_info = pd.read_excel(\"/content/drive/MyDrive/MAESTRÍA_CDI/ComputoCognitivo/U1_AB_MABL/Data Dictionary.xls\")\n",
        "\n",
        "#Convertir la primera fila en los nombres de las columnas\n",
        "data_info.columns = data_info.iloc[0]\n",
        "data_info = data_info.iloc[1:]\n",
        "\n",
        "#Imprimir las variables y lo que significan\n",
        "for v,d in zip(data_info.iloc[:,0],data_info.iloc[:,1]): print(f\"{v}: \\n{d}\\n\")"
      ],
      "metadata": {
        "colab": {
          "base_uri": "https://localhost:8080/"
        },
        "id": "YhLMNpRxYLJm",
        "outputId": "4ff39896-2f49-4937-9f10-bb585234c0e6"
      },
      "execution_count": null,
      "outputs": [
        {
          "output_type": "stream",
          "name": "stdout",
          "text": [
            "SeriousDlqin2yrs: \n",
            "Person experienced 90 days past due delinquency or worse \n",
            "\n",
            "RevolvingUtilizationOfUnsecuredLines: \n",
            "Total balance on credit cards and personal lines of credit except real estate and no installment debt like car loans divided by the sum of credit limits\n",
            "\n",
            "age: \n",
            "Age of borrower in years\n",
            "\n",
            "NumberOfTime30-59DaysPastDueNotWorse: \n",
            "Number of times borrower has been 30-59 days past due but no worse in the last 2 years.\n",
            "\n",
            "DebtRatio: \n",
            "Monthly debt payments, alimony,living costs divided by monthy gross income\n",
            "\n",
            "MonthlyIncome: \n",
            "Monthly income\n",
            "\n",
            "NumberOfOpenCreditLinesAndLoans: \n",
            "Number of Open loans (installment like car loan or mortgage) and Lines of credit (e.g. credit cards)\n",
            "\n",
            "NumberOfTimes90DaysLate: \n",
            "Number of times borrower has been 90 days or more past due.\n",
            "\n",
            "NumberRealEstateLoansOrLines: \n",
            "Number of mortgage and real estate loans including home equity lines of credit\n",
            "\n",
            "NumberOfTime60-89DaysPastDueNotWorse: \n",
            "Number of times borrower has been 60-89 days past due but no worse in the last 2 years.\n",
            "\n",
            "NumberOfDependents: \n",
            "Number of dependents in family excluding themselves (spouse, children etc.)\n",
            "\n"
          ]
        }
      ]
    },
    {
      "cell_type": "code",
      "source": [
        "#Carga de los set de datos de entrenamiento y de prueba, eliminando la primera fila que no aporta información\n",
        "\n",
        "data_train = pd.read_csv(\"/content/drive/MyDrive/MAESTRÍA_CDI/ComputoCognitivo/U1_AB_MABL/cs-training.csv\").drop(\"Unnamed: 0\",axis=1)\n",
        "data_test = pd.read_csv(\"/content/drive/MyDrive/MAESTRÍA_CDI/ComputoCognitivo/U1_AB_MABL/cs-test.csv\").drop(\"Unnamed: 0\",axis=1)"
      ],
      "metadata": {
        "id": "zAU462dcO5nN"
      },
      "execution_count": null,
      "outputs": []
    },
    {
      "cell_type": "code",
      "source": [
        "#Proceso de limpieza\n",
        "def clean_data(dataset):\n",
        "  if dataset.isnull().values.any() == True:\n",
        "    for col in dataset.columns[1:]:\n",
        "      if dataset[col].isnull().values.any():\n",
        "        dataset[col] = dataset[col].fillna(dataset[col].mean())\n",
        "  if dataset.iloc[:,1:].isnull().values.any() == False: print(\"Datos Limpios\")\n",
        "  return dataset\n",
        "\n",
        "data_train = clean_data(data_train)\n",
        "\n",
        "#Separacion de clases y variables de entrada\n",
        "X, Y = data_train.iloc[:,1:], data_train.iloc[:,0]\n",
        "\n",
        "x_train, x_test, y_train, y_test = train_test_split(X, Y, test_size=0.25, random_state=100)"
      ],
      "metadata": {
        "colab": {
          "base_uri": "https://localhost:8080/"
        },
        "id": "zU3YPClmQrsV",
        "outputId": "c9c99a85-b336-4ddc-b8e0-0c78206a55e8"
      },
      "execution_count": null,
      "outputs": [
        {
          "output_type": "stream",
          "name": "stdout",
          "text": [
            "Datos Limpios\n"
          ]
        }
      ]
    },
    {
      "cell_type": "code",
      "source": [
        "#Entrenar el modelo de Regresión Logística\n",
        "model = LogisticRegression(max_iter = 1000)\n",
        "model.fit(x_train, y_train)"
      ],
      "metadata": {
        "colab": {
          "base_uri": "https://localhost:8080/",
          "height": 75
        },
        "id": "6rPSOJvDy1Li",
        "outputId": "49b66f6e-0cdf-4335-c4e4-57ba5cd0faea"
      },
      "execution_count": null,
      "outputs": [
        {
          "output_type": "execute_result",
          "data": {
            "text/plain": [
              "LogisticRegression(max_iter=1000)"
            ],
            "text/html": [
              "<style>#sk-container-id-8 {color: black;background-color: white;}#sk-container-id-8 pre{padding: 0;}#sk-container-id-8 div.sk-toggleable {background-color: white;}#sk-container-id-8 label.sk-toggleable__label {cursor: pointer;display: block;width: 100%;margin-bottom: 0;padding: 0.3em;box-sizing: border-box;text-align: center;}#sk-container-id-8 label.sk-toggleable__label-arrow:before {content: \"▸\";float: left;margin-right: 0.25em;color: #696969;}#sk-container-id-8 label.sk-toggleable__label-arrow:hover:before {color: black;}#sk-container-id-8 div.sk-estimator:hover label.sk-toggleable__label-arrow:before {color: black;}#sk-container-id-8 div.sk-toggleable__content {max-height: 0;max-width: 0;overflow: hidden;text-align: left;background-color: #f0f8ff;}#sk-container-id-8 div.sk-toggleable__content pre {margin: 0.2em;color: black;border-radius: 0.25em;background-color: #f0f8ff;}#sk-container-id-8 input.sk-toggleable__control:checked~div.sk-toggleable__content {max-height: 200px;max-width: 100%;overflow: auto;}#sk-container-id-8 input.sk-toggleable__control:checked~label.sk-toggleable__label-arrow:before {content: \"▾\";}#sk-container-id-8 div.sk-estimator input.sk-toggleable__control:checked~label.sk-toggleable__label {background-color: #d4ebff;}#sk-container-id-8 div.sk-label input.sk-toggleable__control:checked~label.sk-toggleable__label {background-color: #d4ebff;}#sk-container-id-8 input.sk-hidden--visually {border: 0;clip: rect(1px 1px 1px 1px);clip: rect(1px, 1px, 1px, 1px);height: 1px;margin: -1px;overflow: hidden;padding: 0;position: absolute;width: 1px;}#sk-container-id-8 div.sk-estimator {font-family: monospace;background-color: #f0f8ff;border: 1px dotted black;border-radius: 0.25em;box-sizing: border-box;margin-bottom: 0.5em;}#sk-container-id-8 div.sk-estimator:hover {background-color: #d4ebff;}#sk-container-id-8 div.sk-parallel-item::after {content: \"\";width: 100%;border-bottom: 1px solid gray;flex-grow: 1;}#sk-container-id-8 div.sk-label:hover label.sk-toggleable__label {background-color: #d4ebff;}#sk-container-id-8 div.sk-serial::before {content: \"\";position: absolute;border-left: 1px solid gray;box-sizing: border-box;top: 0;bottom: 0;left: 50%;z-index: 0;}#sk-container-id-8 div.sk-serial {display: flex;flex-direction: column;align-items: center;background-color: white;padding-right: 0.2em;padding-left: 0.2em;position: relative;}#sk-container-id-8 div.sk-item {position: relative;z-index: 1;}#sk-container-id-8 div.sk-parallel {display: flex;align-items: stretch;justify-content: center;background-color: white;position: relative;}#sk-container-id-8 div.sk-item::before, #sk-container-id-8 div.sk-parallel-item::before {content: \"\";position: absolute;border-left: 1px solid gray;box-sizing: border-box;top: 0;bottom: 0;left: 50%;z-index: -1;}#sk-container-id-8 div.sk-parallel-item {display: flex;flex-direction: column;z-index: 1;position: relative;background-color: white;}#sk-container-id-8 div.sk-parallel-item:first-child::after {align-self: flex-end;width: 50%;}#sk-container-id-8 div.sk-parallel-item:last-child::after {align-self: flex-start;width: 50%;}#sk-container-id-8 div.sk-parallel-item:only-child::after {width: 0;}#sk-container-id-8 div.sk-dashed-wrapped {border: 1px dashed gray;margin: 0 0.4em 0.5em 0.4em;box-sizing: border-box;padding-bottom: 0.4em;background-color: white;}#sk-container-id-8 div.sk-label label {font-family: monospace;font-weight: bold;display: inline-block;line-height: 1.2em;}#sk-container-id-8 div.sk-label-container {text-align: center;}#sk-container-id-8 div.sk-container {/* jupyter's `normalize.less` sets `[hidden] { display: none; }` but bootstrap.min.css set `[hidden] { display: none !important; }` so we also need the `!important` here to be able to override the default hidden behavior on the sphinx rendered scikit-learn.org. See: https://github.com/scikit-learn/scikit-learn/issues/21755 */display: inline-block !important;position: relative;}#sk-container-id-8 div.sk-text-repr-fallback {display: none;}</style><div id=\"sk-container-id-8\" class=\"sk-top-container\"><div class=\"sk-text-repr-fallback\"><pre>LogisticRegression(max_iter=1000)</pre><b>In a Jupyter environment, please rerun this cell to show the HTML representation or trust the notebook. <br />On GitHub, the HTML representation is unable to render, please try loading this page with nbviewer.org.</b></div><div class=\"sk-container\" hidden><div class=\"sk-item\"><div class=\"sk-estimator sk-toggleable\"><input class=\"sk-toggleable__control sk-hidden--visually\" id=\"sk-estimator-id-8\" type=\"checkbox\" checked><label for=\"sk-estimator-id-8\" class=\"sk-toggleable__label sk-toggleable__label-arrow\">LogisticRegression</label><div class=\"sk-toggleable__content\"><pre>LogisticRegression(max_iter=1000)</pre></div></div></div></div></div>"
            ]
          },
          "metadata": {},
          "execution_count": 147
        }
      ]
    },
    {
      "cell_type": "code",
      "source": [
        "# Realizar predicciones sobre los datos de prueba\n",
        "y_pred = model.predict(x_test)"
      ],
      "metadata": {
        "id": "CsZsS3Ak1NO6"
      },
      "execution_count": null,
      "outputs": []
    },
    {
      "cell_type": "code",
      "source": [
        "# Evaluar la precisión del modelo\n",
        "accuracy = accuracy_score(y_test, y_pred)\n",
        "print(f\"Precisión del modelo: {accuracy:.2f}\\n\")\n",
        "print(f\"Matriz de Confusión:\")\n",
        "print(confusion_matrix(y_test, y_pred))"
      ],
      "metadata": {
        "colab": {
          "base_uri": "https://localhost:8080/"
        },
        "id": "vnqNZw1G6pMy",
        "outputId": "729640f2-6299-40b3-b6ba-94c0e6c1ba3a"
      },
      "execution_count": null,
      "outputs": [
        {
          "output_type": "stream",
          "name": "stdout",
          "text": [
            "Precisión del modelo: 0.93\n",
            "\n",
            "Matriz de Confusión:\n",
            "[[34925    90]\n",
            " [ 2405    80]]\n"
          ]
        }
      ]
    }
  ]
}