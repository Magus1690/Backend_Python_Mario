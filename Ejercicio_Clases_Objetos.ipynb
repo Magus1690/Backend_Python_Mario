{
  "nbformat": 4,
  "nbformat_minor": 0,
  "metadata": {
    "colab": {
      "provenance": [],
      "authorship_tag": "ABX9TyMQecS5TSejjmUNz8WxRlQF",
      "include_colab_link": true
    },
    "kernelspec": {
      "name": "python3",
      "display_name": "Python 3"
    },
    "language_info": {
      "name": "python"
    }
  },
  "cells": [
    {
      "cell_type": "markdown",
      "metadata": {
        "id": "view-in-github",
        "colab_type": "text"
      },
      "source": [
        "<a href=\"https://colab.research.google.com/github/Magus1690/Backend_Python_Mario/blob/main/Ejercicio_Clases_Objetos.ipynb\" target=\"_parent\"><img src=\"https://colab.research.google.com/assets/colab-badge.svg\" alt=\"Open In Colab\"/></a>"
      ]
    },
    {
      "cell_type": "markdown",
      "source": [
        "<h1>INSTRUCCIONES </h1>\n",
        "\n",
        "<lo>\n",
        "<li>Visualiza qué entidades/instancias/objetos podrían ser útiles en un eCommerce.</li>\n",
        "<li>La idea es que declares una clase con por lo menos 3 funciones y 3 atributos.</li>\n",
        "<li>Además deberás crear una segunda clase que herede estas funciones y atributos y debes agregar funciones y atributos a esta clase hija.</li>\n",
        "<li>Incluye un ejemplo de la instanciación de objetos de ambas clases, sus funciones y sus atributos</li>\n",
        "</lo>"
      ],
      "metadata": {
        "id": "09Ukrf2GSMjZ"
      }
    },
    {
      "cell_type": "code",
      "execution_count": 32,
      "metadata": {
        "id": "q3kW5ORfSGz8"
      },
      "outputs": [],
      "source": [
        "class eCommerce:\n",
        "  stock = {}\n",
        "  cart = {}\n",
        "  bill = 0\n",
        "\n",
        "  def add_to_cart(self,product, qt):\n",
        "    result = self.check_stock(product) #Funcion1 anidada\n",
        "    if result == 0:\n",
        "      res_update = self.update_stock(product,qt) #Funcion2 anidada\n",
        "      if res_update == 1:\n",
        "        if product in self.cart.keys():\n",
        "          self.cart[product] += qt\n",
        "        else:\n",
        "          self.cart[product] = qt\n",
        "        print(f\"{qt} Producto {product} agregado\\n\")\n",
        "      else: print(f\"No hay inventario suficiente de {product} disponible\\n\")\n",
        "    else: print(f\"No hay {product} en stock\\n\")\n",
        "\n",
        "  def check_stock(self,product):\n",
        "    if product in self.stock.keys(): return 0\n",
        "    else: return 1\n",
        "\n",
        "  def update_stock(self,product,qt):\n",
        "    if (self.stock[product] - qt) < 0: return 0\n",
        "    else:\n",
        "      self.stock[product] -= qt\n",
        "      return 1\n",
        "\n",
        "  def add_stock(self,product,qt):\n",
        "    self.stock[product] = qt"
      ]
    },
    {
      "cell_type": "code",
      "source": [
        "tienda1 = eCommerce()\n",
        "\n",
        "#Agregamos productos al stock\n",
        "tienda1.add_stock(\"Lechuga\",100)\n",
        "tienda1.add_stock(\"Carne\",2)\n",
        "tienda1.add_stock(\"Zanahoria\",500)\n",
        "tienda1.add_stock(\"Papa\",200)\n",
        "tienda1.add_stock(\"Tomate\",225)\n",
        "tienda1.add_stock(\"Pescado\",250)"
      ],
      "metadata": {
        "id": "gz5mTv4dVex-"
      },
      "execution_count": 33,
      "outputs": []
    },
    {
      "cell_type": "code",
      "source": [
        "#Realizamos las compras\n",
        "print(f\"Iniciamos: {tienda1.stock}\")\n",
        "tienda1.add_to_cart(\"Tomate\",10)\n",
        "tienda1.add_to_cart(\"Zanahoria\",15)\n",
        "tienda1.add_to_cart(\"Carne\",10)\n",
        "tienda1.add_to_cart(\"juguetes\",100)\n",
        "tienda1.add_to_cart(\"Lechuga\",70)\n",
        "tienda1.add_to_cart(\"Popote\",10)\n",
        "\n",
        "#Despues visualizamos cómo quedó el stock\n",
        "print(f\"Terminamos: {tienda1.stock}\")"
      ],
      "metadata": {
        "colab": {
          "base_uri": "https://localhost:8080/"
        },
        "id": "gDL4g_YkVhsG",
        "outputId": "1f1580a9-ef01-49f0-f7ca-cd36795979ac"
      },
      "execution_count": 34,
      "outputs": [
        {
          "output_type": "stream",
          "name": "stdout",
          "text": [
            "Iniciamos: {'Lechuga': 100, 'Carne': 2, 'Zanahoria': 500, 'Papa': 200, 'Tomate': 225, 'Pescado': 250}\n",
            "10 Producto Tomate agregado\n",
            "\n",
            "15 Producto Zanahoria agregado\n",
            "\n",
            "No hay inventario suficiente de Carne disponible\n",
            "\n",
            "No hay juguetes en stock\n",
            "\n",
            "70 Producto Lechuga agregado\n",
            "\n",
            "No hay Popote en stock\n",
            "\n",
            "Terminamos: {'Lechuga': 30, 'Carne': 2, 'Zanahoria': 485, 'Papa': 200, 'Tomate': 215, 'Pescado': 250}\n"
          ]
        }
      ]
    },
    {
      "cell_type": "code",
      "source": [
        "class eCommerce2(eCommerce):\n",
        "  greetings = \"Bienvenido a la Tienda de Mario\"\n",
        "\n",
        "  def __init__(self):\n",
        "    print(self.greetings)\n",
        "\n",
        "  def status_order(self):\n",
        "    print(f\"Tu carrito tiene: \\n\")\n",
        "    [print(f\"{q} {p}s\") for p,q in zip(self.cart.keys(),self.cart.values())]"
      ],
      "metadata": {
        "id": "on02akMiU4eP"
      },
      "execution_count": 35,
      "outputs": []
    },
    {
      "cell_type": "code",
      "source": [
        "#Probamos el objeto 2\n",
        "tienda2 = eCommerce2()\n",
        "\n",
        "#Agregamos productos al stock\n",
        "tienda2.add_stock(\"Lechuga\",100)\n",
        "tienda2.add_stock(\"Carne\",2)\n",
        "tienda2.add_stock(\"Zanahoria\",500)\n",
        "tienda2.add_stock(\"Papa\",200)\n",
        "tienda2.add_stock(\"Tomate\",225)\n",
        "tienda2.add_stock(\"Pescado\",250)"
      ],
      "metadata": {
        "colab": {
          "base_uri": "https://localhost:8080/"
        },
        "id": "vxIN9yHh1RCX",
        "outputId": "7bd84518-94a6-4183-9663-0d8ce1adfb01"
      },
      "execution_count": 29,
      "outputs": [
        {
          "output_type": "stream",
          "name": "stdout",
          "text": [
            "Bienvenido a la Tienda de Mario\n"
          ]
        }
      ]
    },
    {
      "cell_type": "code",
      "source": [
        "#Realizamos las compras\n",
        "print(f\"Iniciamos: {tienda1.stock}\")\n",
        "tienda2.add_to_cart(\"Tomate\",10)\n",
        "tienda2.add_to_cart(\"Zanahoria\",15)\n",
        "tienda2.add_to_cart(\"Carne\",10)\n",
        "tienda2.add_to_cart(\"juguetes\",100)\n",
        "tienda2.add_to_cart(\"Lechuga\",70)\n",
        "tienda2.add_to_cart(\"Popote\",10)\n",
        "\n",
        "#Despues visualizamos cómo quedó el stock\n",
        "print(f\"Terminamos: {tienda2.stock}\")"
      ],
      "metadata": {
        "colab": {
          "base_uri": "https://localhost:8080/"
        },
        "id": "_v1D-MQ_1cYd",
        "outputId": "99c3b556-197e-4f1a-a548-a5c33733b094"
      },
      "execution_count": 30,
      "outputs": [
        {
          "output_type": "stream",
          "name": "stdout",
          "text": [
            "Iniciamos: {'Lechuga': 100, 'Carne': 2, 'Zanahoria': 500, 'Papa': 200, 'Tomate': 225, 'Pescado': 250}\n",
            "10 Producto Tomate agregado\n",
            "\n",
            "15 Producto Zanahoria agregado\n",
            "\n",
            "No hay inventario suficiente de Carne disponible\n",
            "\n",
            "No hay juguetes en stock\n",
            "\n",
            "70 Producto Lechuga agregado\n",
            "\n",
            "No hay Popote en stock\n",
            "\n",
            "Terminamos: {'Lechuga': 30, 'Carne': 2, 'Zanahoria': 485, 'Papa': 200, 'Tomate': 215, 'Pescado': 250}\n"
          ]
        }
      ]
    },
    {
      "cell_type": "code",
      "source": [
        "#Visualizamos el carrito\n",
        "tienda2.status_order()"
      ],
      "metadata": {
        "colab": {
          "base_uri": "https://localhost:8080/"
        },
        "id": "9fVo8xfk1esQ",
        "outputId": "f55d9032-896e-4199-eb84-b568852ec3b9"
      },
      "execution_count": 31,
      "outputs": [
        {
          "output_type": "stream",
          "name": "stdout",
          "text": [
            "Tu carrito tiene: \n",
            "\n",
            "70 Tomates\n",
            "105 Zanahorias\n",
            "490 Lechugas\n"
          ]
        }
      ]
    }
  ]
}