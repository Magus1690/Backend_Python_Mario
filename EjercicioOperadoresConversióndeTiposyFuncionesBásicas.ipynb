{
  "nbformat": 4,
  "nbformat_minor": 0,
  "metadata": {
    "colab": {
      "provenance": [],
      "authorship_tag": "ABX9TyMO7R6xCId5DK58r13CpVxQ",
      "include_colab_link": true
    },
    "kernelspec": {
      "name": "python3",
      "display_name": "Python 3"
    },
    "language_info": {
      "name": "python"
    }
  },
  "cells": [
    {
      "cell_type": "markdown",
      "metadata": {
        "id": "view-in-github",
        "colab_type": "text"
      },
      "source": [
        "<a href=\"https://colab.research.google.com/github/Magus1690/Backend_Python_Mario/blob/main/EjercicioOperadoresConversi%C3%B3ndeTiposyFuncionesB%C3%A1sicas.ipynb\" target=\"_parent\"><img src=\"https://colab.research.google.com/assets/colab-badge.svg\" alt=\"Open In Colab\"/></a>"
      ]
    },
    {
      "cell_type": "markdown",
      "source": [
        "<h1>INSTRUCCIONES </h1>\n",
        "\n",
        "<p align = \"justify\">\n",
        "Crea un Jupyter Notebook para el ejercicio y escribe un programa pidiéndole al usuario que seleccione una operación (suma, resta, multiplicación, división y potencia) e ingrese una lista, un set y un diccionario con 5 números. Recuerda que puedes usar la función type para saber el tipo de entrada (lista, set, diccionario) y utilizar operadores para validar si la entrada tiene una estructura correcta. Posteriormente imprime los valores de entrada, la operación solicitada y el resultado de la operación. En caso de que la entrada sea inválida, muestra un mensaje especificando el usuario, por ejemplo “entrada inválida” o “tamaño inválido en la entrada”. </p>"
      ],
      "metadata": {
        "id": "Q7MGRlefrvw5"
      }
    },
    {
      "cell_type": "code",
      "execution_count": 70,
      "metadata": {
        "colab": {
          "base_uri": "https://localhost:8080/"
        },
        "id": "KUbMRfzPrnwO",
        "outputId": "00130fd0-2d72-49c7-fc02-9e99dfb50b96"
      },
      "outputs": [
        {
          "output_type": "stream",
          "name": "stdout",
          "text": [
            "¿Que operacion desea realizar?\n",
            "Seleccione el numero de la opcion\n",
            " 1.suma\n",
            " 2.resta\n",
            " 3.multiplicación\n",
            " 4.división\n",
            " 5.potencia\n",
            "\n",
            "1\n",
            "Introduzca 5 valores para realizar la operacion{1:1,2:2,3:3}\n",
            "Entrada inválida\n",
            "Valores de entrada: [1, 2, 3]\n",
            "El resultado de la operacion suma es: 6\n"
          ]
        }
      ],
      "source": [
        "\n",
        "def realizar_operacion(op,struc):\n",
        "  if type(struc) == set: struc= list(struc)\n",
        "  elif type(struc) == dict: struc= list(struc.values())\n",
        "  print(\"Valores de entrada:\", struc)\n",
        "  o = [\"suma\", \"resta\", \"multiplicación\", \"división\", \"potencia\"]\n",
        "  res = 0\n",
        "  if op >=1 and op <=5:\n",
        "    if op == 1:\n",
        "      for num in struc: res += num\n",
        "    elif op == 2:\n",
        "      for num in struc: res -= num\n",
        "    elif op == 3:\n",
        "      for i in range(len(struc)-1):\n",
        "        struc[i] *= struc[i+1]\n",
        "        struc[i+1]  = struc[i]\n",
        "      res= struc[-2]\n",
        "    elif op == 4:\n",
        "      for i in range(len(struc)-1):\n",
        "        struc[i] /= struc[i+1]\n",
        "        struc[i+1]  = struc[i]\n",
        "      res= struc[-1]\n",
        "    else:\n",
        "      for i in range(len(struc)-1):\n",
        "        struc[i] **= struc[i+1]\n",
        "        struc[i+1]  = struc[i]\n",
        "      res= struc[-1]\n",
        "    print(f\"El resultado de la operacion {o[op-1]} es: {res}\")\n",
        "  else: print(\"Opcion invalida\")\n",
        "\n",
        "def cotejar_estructura(struc):\n",
        "  data_str = [list,tuple,set]\n",
        "  if type(struc) in data_str:\n",
        "    print(\"Estructura valida\")\n",
        "    if len(struc) <= 5:\n",
        "      print(\"Tamaño válido\")\n",
        "    else: print(\"Tamaño inválido en la entrada\")\n",
        "  else: print(\"Entrada inválida\")\n",
        "  return struc\n",
        "\n",
        "print(\"¿Que operacion desea realizar?\")\n",
        "print(\"Seleccione el numero de la opcion\")\n",
        "print(\" 1.suma\\n 2.resta\\n 3.multiplicación\\n 4.división\\n 5.potencia\\n\")\n",
        "operacion = int(input())\n",
        "\n",
        "#Almacenar el primer valor\n",
        "lista = cotejar_estructura(eval(input(\"Introduzca 5 valores para realizar la operacion\")))\n",
        "\n",
        "#realizar_operacion(operacion,num1,num2)\n",
        "realizar_operacion(operacion, lista)"
      ]
    }
  ]
}