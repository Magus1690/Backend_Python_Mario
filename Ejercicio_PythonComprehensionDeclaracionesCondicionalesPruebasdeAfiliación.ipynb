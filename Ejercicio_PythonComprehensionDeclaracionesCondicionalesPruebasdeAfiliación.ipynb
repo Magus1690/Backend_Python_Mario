{
  "nbformat": 4,
  "nbformat_minor": 0,
  "metadata": {
    "colab": {
      "provenance": [],
      "authorship_tag": "ABX9TyOqKf7mjLc6tXXwdXkgVdvl",
      "include_colab_link": true
    },
    "kernelspec": {
      "name": "python3",
      "display_name": "Python 3"
    },
    "language_info": {
      "name": "python"
    }
  },
  "cells": [
    {
      "cell_type": "markdown",
      "metadata": {
        "id": "view-in-github",
        "colab_type": "text"
      },
      "source": [
        "<a href=\"https://colab.research.google.com/github/Magus1690/Backend_Python_Mario/blob/main/Ejercicio_PythonComprehensionDeclaracionesCondicionalesPruebasdeAfiliaci%C3%B3n.ipynb\" target=\"_parent\"><img src=\"https://colab.research.google.com/assets/colab-badge.svg\" alt=\"Open In Colab\"/></a>"
      ]
    },
    {
      "cell_type": "markdown",
      "source": [
        "<h1>INSTRUCCIONES </h1>\n",
        "<p align=\"justify\">Crea un Jupyter Notebook para el ejercicio, usa la variable my_list para obtener una lista de diccionarios con las llaves “artista” y ”canción” y luego imprime los resultados Puntos extra si utilizas list comprehension. </p>"
      ],
      "metadata": {
        "id": "DNwj4OewvwAG"
      }
    },
    {
      "cell_type": "code",
      "execution_count": 20,
      "metadata": {
        "colab": {
          "base_uri": "https://localhost:8080/"
        },
        "id": "01q_YkKKu_nl",
        "outputId": "d00e7b6c-cb07-4eb7-a6db-0d209a9fdb4c"
      },
      "outputs": [
        {
          "output_type": "stream",
          "name": "stdout",
          "text": [
            "Lista de Reproducción\n",
            "\n",
            "Ingresa la palabra que te gustaría\n",
            "Ejemplo: 'rock', y obtendrás un playlist de canciones o artistas que incluyan la palabra rock\n",
            "Roses\n",
            "[{'Roses': 'SAINt JHN'}, {'Roses (feat. ROZES)': 'The Chainsmokers'}, {'Roses': 'benny blanco'}, {'Roses (TikTok Dance)': 'Metrixx'}, {'Roses': 'OutKast'}, {'Roses': 'Silverchair'}, {'Rosas': 'La Oreja de Van Gogh'}, {'Roses': 'Valencia Grace'}, {'Rose': 'Seven Starr'}, {'Roses': 'MELON'}, {'Roses': 'Kanye West'}, {'Roses': 'Cxrno'}, {'Rosas': 'Porte Diferente'}, {'Roses': 'Nathan Colberg'}, {'Roses': 'Shawn Mendes'}, {'Rosas': 'Grupo Arriesgado'}, {'With Or Whithout You': 'Roses & Frey'}, {'Roses': 'Hunter Hayes'}, {'Rose': 'James Horner'}, {'Roses': 'Cam Holmes'}, {'Roses (feat. ROZES)': 'The Chainsmokers'}, {'Rosas': 'Huge Werter'}, {'ROSES': 'MVDNES'}, {'Roses': 'OutKast'}, {'Rose': 'Smeels'}]\n"
          ]
        }
      ],
      "source": [
        "import requests\n",
        "print(\"Lista de Reproducción\\n\")\n",
        "\n",
        "# Referencia: https://www.deezer.com/en/channels/explore\n",
        "\n",
        "print(\"Ingresa la palabra que te gustaría\")\n",
        "print(\"Ejemplo: 'rock', y obtendrás un playlist de canciones o artistas que incluyan la palabra rock\")\n",
        "\n",
        "word_to_search = input()\n",
        "\n",
        "url = \"https://deezerdevs-deezer.p.rapidapi.com/search\"\n",
        "querystring = {\"q\":word_to_search}\n",
        "headers = {\n",
        "    \"X-RapidAPI-Key\": \"3ed98f551fmshe4e6260228c4eadp13db17jsn8c893e1194da\",\n",
        "    \"X-RapidAPI-Host\": \"deezerdevs-deezer.p.rapidapi.com\"\n",
        "}\n",
        "response = requests.request(\"GET\", url, headers=headers, params=querystring).json()\n",
        "\n",
        "my_list = [{element['title'] : element['artist']['name']} for element in response['data']] #List Comprehension\n",
        "print(my_list)"
      ]
    }
  ]
}