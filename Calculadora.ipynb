{
  "nbformat": 4,
  "nbformat_minor": 0,
  "metadata": {
    "colab": {
      "provenance": [],
      "authorship_tag": "ABX9TyPcuPguIlX1qO9o+U7OFujV",
      "include_colab_link": true
    },
    "kernelspec": {
      "name": "python3",
      "display_name": "Python 3"
    },
    "language_info": {
      "name": "python"
    }
  },
  "cells": [
    {
      "cell_type": "markdown",
      "metadata": {
        "id": "view-in-github",
        "colab_type": "text"
      },
      "source": [
        "<a href=\"https://colab.research.google.com/github/Magus1690/Backend_Python_Mario/blob/main/Calculadora.ipynb\" target=\"_parent\"><img src=\"https://colab.research.google.com/assets/colab-badge.svg\" alt=\"Open In Colab\"/></a>"
      ]
    },
    {
      "cell_type": "markdown",
      "source": [
        "<h1> Intrucciones</h1>\n",
        "<p align = \"justify\">Crea un Jupyter Notebook para el ejercicio y escribe un programa pidiéndole al usuario que seleccione una operación (suma, resta, multiplicación, división y potencia) y que ingrese 2 números para aplicarles esa operación. No te olvides que puedes usar la función input para obtener varios valores de entrada. Posteriormente imprime los valores de entrada, la operación solicitada y el resultado de la operación. Recuerda que tienes puntos extra si aceptas valores binarios, octales y hexadecimales como entrada.<p>"
      ],
      "metadata": {
        "id": "xbhvldJz02ou"
      }
    },
    {
      "cell_type": "code",
      "execution_count": null,
      "metadata": {
        "colab": {
          "base_uri": "https://localhost:8080/"
        },
        "id": "pcRoizYANWyC",
        "outputId": "d83c2437-557e-4724-e4be-3d64728a0aa6"
      },
      "outputs": [
        {
          "output_type": "stream",
          "name": "stdout",
          "text": [
            "¿Que operacion desea realizar?\n",
            "Seleccione el numero de la opcion\n",
            " 1.suma\n",
            " 2.resta\n",
            " 3.multiplicación\n",
            " 4.división\n",
            " 5.potencia\n",
            "\n",
            "1\n",
            "¿Que tipo de numeros vamos a utilizar\n",
            "Seleccione el numero de la opcion\n",
            " 1.decimal\n",
            " 2.binario\n",
            " 3.octal\n",
            " 4.hexadecimal\n",
            "\n",
            "4\n",
            "¿Selecciona el primer numero1f\n",
            "¿Selecciona el segundo numero2E\n",
            "Valores de entrada: 31 46\n",
            "El resultado de la operacion suma es: 77\n"
          ]
        }
      ],
      "source": [
        "\n",
        "def realizar_operacion(op, num1, num2):\n",
        "  print(\"Valores de entrada:\",num1,num2)\n",
        "  o = [\"suma\", \"resta\", \"multiplicación\", \"división\", \"potencia\"]\n",
        "  if op >=1 and op <=5:\n",
        "    if op == 1:\n",
        "      print(f\"El resultado de la operacion {o[op-1]} es: {num1 + num2}\")\n",
        "    elif op == 2:\n",
        "      print(f\"El resultado de la operacion {o[op-1]} es: {num1 - num2}\")\n",
        "    elif op == 3:\n",
        "      print(f\"El resultado de la operacion {o[op-1]} es: {num1 * num2}\")\n",
        "    elif op == 4:\n",
        "      if num2 == 0: print(f\"El resultado de la operacion {o[op-1]} es: 0\")\n",
        "      else: print(f\"El resultado de la operacion {o[op-1]} es: {num1 / num2}\")\n",
        "    else:\n",
        "      print(f\"El resultado de la operacion {o[op-1]} es: {num1 ** num2}\")\n",
        "  else: print(\"Opcion invalida\")\n",
        "\n",
        "def cotejar_tipo_val(valor, tipo):\n",
        "  if tipo == 1: return int(valor)\n",
        "  elif tipo == 2: return int(valor,2)\n",
        "  elif tipo == 3: return int(valor,8)\n",
        "  elif tipo == 4: return int(valor,16)\n",
        "  else: print(\"Tipo invalido\")\n",
        "\n",
        "print(\"¿Que operacion desea realizar?\")\n",
        "print(\"Seleccione el numero de la opcion\")\n",
        "print(\" 1.suma\\n 2.resta\\n 3.multiplicación\\n 4.división\\n 5.potencia\\n\")\n",
        "operacion = int(input())\n",
        "\n",
        "print(\"¿Que tipo de numeros vamos a utilizar\")\n",
        "print(\"Seleccione el numero de la opcion\")\n",
        "print(\" 1.decimal\\n 2.binario\\n 3.octal\\n 4.hexadecimal\\n\")\n",
        "tipo_val = int(input())\n",
        "\n",
        "#Almacenar el primer valor\n",
        "num1 = cotejar_tipo_val(input(\"¿Selecciona el primer numero\"), tipo_val)\n",
        "#Almacenar el segundo valor\n",
        "num2 = cotejar_tipo_val(input(\"¿Selecciona el segundo numero\"), tipo_val)\n",
        "\n",
        "realizar_operacion(operacion,num1,num2)"
      ]
    }
  ]
}