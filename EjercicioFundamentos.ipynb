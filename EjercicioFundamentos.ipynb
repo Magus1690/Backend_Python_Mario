{
  "nbformat": 4,
  "nbformat_minor": 0,
  "metadata": {
    "colab": {
      "provenance": [],
      "authorship_tag": "ABX9TyNpuNK+5DBNIOcXCEtYcAxl",
      "include_colab_link": true
    },
    "kernelspec": {
      "name": "python3",
      "display_name": "Python 3"
    },
    "language_info": {
      "name": "python"
    }
  },
  "cells": [
    {
      "cell_type": "markdown",
      "metadata": {
        "id": "view-in-github",
        "colab_type": "text"
      },
      "source": [
        "<a href=\"https://colab.research.google.com/github/Magus1690/Backend_Python_Mario/blob/main/EjercicioFundamentos.ipynb\" target=\"_parent\"><img src=\"https://colab.research.google.com/assets/colab-badge.svg\" alt=\"Open In Colab\"/></a>"
      ]
    },
    {
      "cell_type": "markdown",
      "source": [
        "<h1>INSTRUCCIONES</h1>\n",
        "<p align=\"justify\">Crea un Jupyter Notebook para el ejercicio y escribe un programa pidiéndole al usuario un entero, un float y una cadena. No te olvides de añadir la función type para detectar el tipo de dato de cada uno de los valores. Posteriormente imprime los valores y el tipo de dato de cada uno usando la función print.</p>"
      ],
      "metadata": {
        "id": "U46_vnDEzLeX"
      }
    },
    {
      "cell_type": "code",
      "execution_count": 7,
      "metadata": {
        "colab": {
          "base_uri": "https://localhost:8080/"
        },
        "id": "_CaZrWkizIKM",
        "outputId": "f7558362-0c06-4313-991c-f131dc1bebf0"
      },
      "outputs": [
        {
          "output_type": "stream",
          "name": "stdout",
          "text": [
            "Introduzca un numero entero, un float y una cadena separado por un una coma1,5.9,Mario Backend Python\n",
            "Valor 0 es 1 y es tipo <class 'int'>\n",
            "Valor 1 es 5.9 y es tipo <class 'float'>\n",
            "Valor 2 es Mario Backend Python y es tipo <class 'str'>\n"
          ]
        }
      ],
      "source": [
        "entradas = input(\"Introduzca un numero entero, un float y una cadena separado por un una coma\")\n",
        "res = [eval(inp) if i!= 2 else inp for i,inp in enumerate(entradas.split(\",\"))]\n",
        "for i,n in enumerate(res): print(f\"Valor {i} es {n} y es tipo {type(n)}\")"
      ]
    }
  ]
}