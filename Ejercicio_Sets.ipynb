{
  "nbformat": 4,
  "nbformat_minor": 0,
  "metadata": {
    "colab": {
      "provenance": [],
      "authorship_tag": "ABX9TyPVNaSSxipa16fshLEhDHmE",
      "include_colab_link": true
    },
    "kernelspec": {
      "name": "python3",
      "display_name": "Python 3"
    },
    "language_info": {
      "name": "python"
    }
  },
  "cells": [
    {
      "cell_type": "markdown",
      "metadata": {
        "id": "view-in-github",
        "colab_type": "text"
      },
      "source": [
        "<a href=\"https://colab.research.google.com/github/Magus1690/Backend_Python_Mario/blob/main/Ejercicio_Sets.ipynb\" target=\"_parent\"><img src=\"https://colab.research.google.com/assets/colab-badge.svg\" alt=\"Open In Colab\"/></a>"
      ]
    },
    {
      "cell_type": "markdown",
      "source": [
        "<h1>INSTRUCCIONES.</h1>\n",
        "\n",
        "<p align=\"justify\">Crea un Jupyter Notebook para el ejercicio y modifica este programa para crear un generador de combinaciones. En el ejemplo se generan las combinaciones de 3 caracteres. El objetivo es que incluyas la letra D y generes las combinaciones posibles con 4 caractéres. </p>"
      ],
      "metadata": {
        "id": "xNSFtBhOCTQR"
      }
    },
    {
      "cell_type": "code",
      "source": [
        "# Define los números y letras\n",
        "characters = {'0', '1', '2', '3', '4', '5', '6', '7', '8', '9'}.union({'A', 'B', 'C', 'D'})\n",
        "combinations = set()\n",
        "\n",
        "for A in characters:\n",
        "  for B in characters:\n",
        "    for C in characters:\n",
        "      for D in characters:\n",
        "        comb = A+B+C+D\n",
        "        combinations.add(comb)\n",
        "\n",
        "#print(combinations)"
      ],
      "metadata": {
        "id": "5cXtlRMI-tG_"
      },
      "execution_count": 46,
      "outputs": []
    }
  ]
}