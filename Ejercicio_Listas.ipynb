{
  "nbformat": 4,
  "nbformat_minor": 0,
  "metadata": {
    "colab": {
      "provenance": [],
      "authorship_tag": "ABX9TyPT9Cr9XfIMX4iZMKgWGRYz",
      "include_colab_link": true
    },
    "kernelspec": {
      "name": "python3",
      "display_name": "Python 3"
    },
    "language_info": {
      "name": "python"
    }
  },
  "cells": [
    {
      "cell_type": "markdown",
      "metadata": {
        "id": "view-in-github",
        "colab_type": "text"
      },
      "source": [
        "<a href=\"https://colab.research.google.com/github/Magus1690/Backend_Python_Mario/blob/main/Ejercicio_Listas.ipynb\" target=\"_parent\"><img src=\"https://colab.research.google.com/assets/colab-badge.svg\" alt=\"Open In Colab\"/></a>"
      ]
    },
    {
      "cell_type": "markdown",
      "source": [
        "<h1 align=\"justify\">INSTRUCCIONES </h1>\n",
        "\n",
        "<p align=\"justify\">Crea un Jupyter Notebook para el ejercicio y modifica este programa para crear un prototipo de un carrito de compras, que al final haya por lo menos 8 productos disponible</p>"
      ],
      "metadata": {
        "id": "lzcR4e_dssH2"
      }
    },
    {
      "cell_type": "code",
      "execution_count": 25,
      "metadata": {
        "colab": {
          "base_uri": "https://localhost:8080/"
        },
        "id": "lolOlEu6sm4X",
        "outputId": "90ee80e1-783c-43db-ec72-3d215030317f"
      },
      "outputs": [
        {
          "output_type": "stream",
          "name": "stdout",
          "text": [
            "Carrito de compras\n",
            "\n",
            " Productos Disponibles: \n",
            "1.- Pan \n",
            "2.- Jamón \n",
            "3.- Crema \n",
            "4.- Mayonesa \n",
            "5.- Lechuga \n",
            "6.- Tomate\n",
            "7.- Papa\n",
            "8.- Carne\n",
            "\n",
            "Ingrese, separado por una coma, la clave del producto y luego la cantidad que necesita\n",
            "Clave_producto, Cantidad\n",
            "Por ejemplo: 1,1 significa que requiere una pieza de Pan\n",
            "5,10\n",
            "Agregaste 10 Lechuga\n",
            "Desea agregar otro producto? telcee S para (Si) o N para (No)S\n",
            "\n",
            "\n",
            "Ingrese, separado por una coma, la clave del producto y luego la cantidad que necesita\n",
            "Clave_producto, Cantidad\n",
            "Por ejemplo: 1,1 significa que requiere una pieza de Pan\n",
            "8.10\n",
            "Entrada equivocada\n",
            "Ingrese, separado por una coma, la clave del producto y luego la cantidad que necesita\n",
            "Clave_producto, Cantidad\n",
            "Por ejemplo: 1,1 significa que requiere una pieza de Pan\n",
            "8,10\n",
            "Agregaste 10 Carne\n",
            "Desea agregar otro producto? telcee S para (Si) o N para (No)S\n",
            "\n",
            "\n",
            "Ingrese, separado por una coma, la clave del producto y luego la cantidad que necesita\n",
            "Clave_producto, Cantidad\n",
            "Por ejemplo: 1,1 significa que requiere una pieza de Pan\n",
            "5,100\n",
            "Agregaste 100 Lechuga\n",
            "Desea agregar otro producto? telcee S para (Si) o N para (No)N\n",
            "\n",
            "\n",
            "Tu carrito es:\n",
            "\n",
            "5 Lechuga\n",
            "\n",
            "8 Carne\n",
            "\n",
            "5 Lechuga\n",
            "\n"
          ]
        }
      ],
      "source": [
        "print(\"Carrito de compras\\n\")\n",
        "print(\"\"\" Productos Disponibles:\n",
        "1.- Pan\n",
        "2.- Jamón\n",
        "3.- Crema\n",
        "4.- Mayonesa\n",
        "5.- Lechuga\n",
        "6.- Tomate\n",
        "7.- Papa\n",
        "8.- Carne\n",
        "\"\"\")\n",
        "\n",
        "flag, my_shopping_cart = 0, []\n",
        "\n",
        "while flag==0:\n",
        "  print(\"Ingrese, separado por una coma, la clave del producto y luego la cantidad que necesita\")\n",
        "  print(\"Clave_producto, Cantidad\")\n",
        "  print(\"Por ejemplo: 1,1 significa que requiere una pieza de Pan\" )\n",
        "  product = eval(input())\n",
        "  if type(product) == tuple and product[0]>0 and product[0]<=8:\n",
        "    if product[0] == 1: producto = \"Pan\"\n",
        "    if product[0] == 2: producto = \"Jamón\"\n",
        "    if product[0] == 3: producto = \"Crema\"\n",
        "    if product[0] == 4: producto = \"Mayonesa\"\n",
        "    if product[0] == 5: producto = \"Lechuga\"\n",
        "    if product[0] == 6: producto = \"Tomate\"\n",
        "    if product[0] == 7: producto = \"Papa\"\n",
        "    if product[0] == 8: producto = \"Carne\"\n",
        "    print(f\"Agregaste {product[1]} {producto}\")\n",
        "    my_shopping_cart.append((product[0],producto))\n",
        "    decision = input(\"Desea agregar otro producto? telcee S para (Si) o N para (No)\")\n",
        "    print(\"\\n\")\n",
        "    if decision == \"N\": flag = 1\n",
        "  else:\n",
        "    print(\"Entrada equivocada\")\n",
        "\n",
        "print(\"Tu carrito es:\\n\")\n",
        "for i in my_shopping_cart: print(f\"{i[0]} {i[1]}\\n\")"
      ]
    }
  ]
}