{
  "nbformat": 4,
  "nbformat_minor": 0,
  "metadata": {
    "colab": {
      "provenance": [],
      "authorship_tag": "ABX9TyO8bLnTpi7OWPALp3FWOpb9",
      "include_colab_link": true
    },
    "kernelspec": {
      "name": "python3",
      "display_name": "Python 3"
    },
    "language_info": {
      "name": "python"
    }
  },
  "cells": [
    {
      "cell_type": "markdown",
      "metadata": {
        "id": "view-in-github",
        "colab_type": "text"
      },
      "source": [
        "<a href=\"https://colab.research.google.com/github/Magus1690/Backend_Python_Mario/blob/main/EjercicioStringsCadenas.ipynb\" target=\"_parent\"><img src=\"https://colab.research.google.com/assets/colab-badge.svg\" alt=\"Open In Colab\"/></a>"
      ]
    },
    {
      "cell_type": "markdown",
      "source": [
        "<h1>INSTRUCCIONES </h1>\n",
        "\n",
        "<p align=\"justify\">El objetivo de esta actividad es que escribas un programa en un Jupyter Notebook y que crees un analizador de sentimientos básico para un texto.</p>\n",
        "<p align=\"justify\">Copia y pega el código del recuadro en tu Jupyter Notebook para realizar el ejercicio. Recuerda modificar este programa, de forma que sea más efectivo. Pon ejemplos para negativo, positivo y neutro.</p>"
      ],
      "metadata": {
        "id": "___ehWko4Oup"
      }
    },
    {
      "cell_type": "code",
      "source": [
        "text = input(\"Este es un analizar de sentimientos,escriba una opinion de algun producto: \\n\")\n",
        "\n",
        "#Palabras positivas\n",
        "positive_words = [\"agradable\", \"bonito\", \"apasionado\", \"nuevo\", \"claramente\", \"impresionante\", \"positivo\", \"genial\",\n",
        "                  \"bueno\", \"excelente\", \"maravilloso\", \"disfrutado\", \"bueno\", \"excelente\", \"maravilloso\"]\n",
        "\n",
        "#Palabras negativas\n",
        "negative_words = [\"defectuoso\", \"malo\", \"horrible\", \"agresivo\",\t\"despreciable\",\"egoísta\",\t\"vanidoso\", \"mentiroso\", \"hipócrita\",\n",
        "                  \"desconsiderado\",\t\"dañino\", \"violento\", \"horrible\", \"negativo\",\t\"insoportable\", \"feo\", \"intolerante\", \"Malo\"]\n",
        "\n",
        "score = 0\n",
        "for positive_word in positive_words:\n",
        "  score = score + text.count(positive_word)\n",
        "\n",
        "for negative_word in negative_words:\n",
        "  score = score - text.count(negative_word)\n",
        "\n",
        "  if score == 0:\n",
        "    result = \"Neutro\"\n",
        "  if score > 0:\n",
        "    result = \"Positivo\"\n",
        "  if score < 0:\n",
        "    result = \"Negativo\"\n",
        "\n",
        "print(\"text: {}\\nscore: {} \\nresultado: {}\".format(text, score, result))"
      ],
      "metadata": {
        "id": "Yj8qKiMT51zc",
        "colab": {
          "base_uri": "https://localhost:8080/"
        },
        "outputId": "e3b28ac4-9c48-4aa1-f515-70c6dc6705ef"
      },
      "execution_count": 10,
      "outputs": [
        {
          "output_type": "stream",
          "name": "stdout",
          "text": [
            "Este es un analizar de sentimientos,escriba una opinion de algun producto: \n",
            "El show estuvo feo, lo unico que salvo la noche fue el actor principal, era agradable, apasionado, y claramente aprendio bien sus dialogos. La actuacion de los demas actores super feo. \n",
            "text: El show estuvo feo, lo unico que salvo la noche fue el actor principal, era agradable, apasionado, y claramente aprendio bien sus dialogos. La actuacion de los demas actores super feo. \n",
            "score: 1 \n",
            "resultado: Positivo\n"
          ]
        }
      ]
    }
  ]
}